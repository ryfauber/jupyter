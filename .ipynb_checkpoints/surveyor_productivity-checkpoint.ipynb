{
 "cells": [
  {
   "cell_type": "code",
   "execution_count": 6,
   "metadata": {
    "collapsed": true
   },
   "outputs": [],
   "source": [
    "%matplotlib inline\n",
    "import pandas as pd\n",
    "import numpy as np\n",
    "import ipywidgets as widgets\n",
    "from ipywidgets import interact\n",
    "import datetime\n",
    "from datetime import date, timedelta\n",
    "from IPython.display import HTML\n"
   ]
  },
  {
   "cell_type": "code",
   "execution_count": 7,
   "metadata": {},
   "outputs": [
    {
     "data": {
      "text/html": [
       "<script>\n",
       "  function code_toggle() {\n",
       "    if (code_shown){\n",
       "      $('div.input').hide('500');\n",
       "      $('#toggleButton').val('Show Code')\n",
       "    } else {\n",
       "      $('div.input').show('500');\n",
       "      $('#toggleButton').val('Hide Code')\n",
       "    }\n",
       "    code_shown = !code_shown\n",
       "  }\n",
       "\n",
       "  $( document ).ready(function(){\n",
       "    code_shown=false;\n",
       "    $('div.input').hide()\n",
       "  });\n",
       "</script>\n",
       "<form action=\"javascript:code_toggle()\"><input type=\"submit\" id=\"toggleButton\" value=\"Show Code\"></form>"
      ],
      "text/plain": [
       "<IPython.core.display.HTML object>"
      ]
     },
     "execution_count": 7,
     "metadata": {},
     "output_type": "execute_result"
    }
   ],
   "source": [
    "HTML('''<script>\n",
    "  function code_toggle() {\n",
    "    if (code_shown){\n",
    "      $('div.input').hide('500');\n",
    "      $('#toggleButton').val('Show Code')\n",
    "    } else {\n",
    "      $('div.input').show('500');\n",
    "      $('#toggleButton').val('Hide Code')\n",
    "    }\n",
    "    code_shown = !code_shown\n",
    "  }\n",
    "\n",
    "  $( document ).ready(function(){\n",
    "    code_shown=false;\n",
    "    $('div.input').hide()\n",
    "  });\n",
    "</script>\n",
    "<form action=\"javascript:code_toggle()\"><input type=\"submit\" id=\"toggleButton\" value=\"Show Code\"></form>''')"
   ]
  },
  {
   "cell_type": "code",
   "execution_count": 7,
   "metadata": {
    "collapsed": true
   },
   "outputs": [],
   "source": [
    "result = pd.read_csv('/Users/ryan/Desktop/baseline/notebook/baseline_data_for_viewer.csv', header=0, dtype= 'unicode', parse_dates=['date'])   \n",
    "enum_names = pd.read_csv('/Users/ryan/Downloads/enum_list_baseline_MAY17 (Autosaved).csv',header=0, dtype= 'unicode')\n",
    "\n",
    "result.loc[result['dod_enumerator_id_intro'] == \"amirulislamo4416@gmail.com\" ,'dod_enumerator_id_intro'] = \"amirulislam04416@gmail.com\"\n",
    "result.loc[result['dod_enumerator_id_intro'] == \"deepakkharte@gmail.com\" ,'dod_enumerator_id_intro'] = \"deepakkharte14@gmail.com\"\n",
    "result.loc[result['dod_enumerator_id_intro'] == \"jagdishpawar1983@rediffmail.com\" ,'dod_enumerator_id_intro'] = \"pawarjagdish1983@gmail.com\"\n",
    "result.loc[result['dod_enumerator_id_intro'] == \"jagdishpawar1983@rediffmail.com\" ,'dod_enumerator_id_intro'] = \"pawarjagdish1983@gmail.com\"\n",
    "result.loc[result['dod_enumerator_id_intro'] == \"kumarvikash5055@gmail.com\" ,'dod_enumerator_id_intro'] = \"vikashkrsah51@gmail.com\"\n",
    "result.loc[result['dod_enumerator_id_intro'] == \"kundan9570dod@gmail.com\" ,'dod_enumerator_id_intro'] = \"kundan957dod@gmail.com\"\n",
    "result.loc[result['dod_enumerator_id_intro'] == \"modaser@gmail.com\" ,'dod_enumerator_id_intro'] = \"modasder@gmail.com\"\n",
    "result.loc[result['dod_enumerator_id_intro'] == \"rahul.rawelcom@gmail.com\" ,'dod_enumerator_id_intro'] = \"rahulkumarjha.dod@gmail.com\"\n",
    "result.loc[result['dod_enumerator_id_intro'] == \"ramesh.chandra@rain-drop.org\" ,'dod_enumerator_id_intro'] = \"rameshchandra.ssa1980@gmail.com\"\n",
    "result.loc[result['dod_enumerator_id_intro'] == \"shahmanoj519@gmail\" ,'dod_enumerator_id_intro'] = \"shahmanoj519@gmail.com\"\n",
    "result.loc[result['dod_enumerator_id_intro'] == \"tharshit290@gmail.com\" ,'dod_enumerator_id_intro'] = \"tharshit190@gmail.com\"\n",
    "result.loc[result['dod_enumerator_id_intro'] == \"wasimansarihrp@gmail.com\" ,'dod_enumerator_id_intro'] = \"wasimansari.dod@gmail.com\"\n",
    "result.loc[result['dod_enumerator_id_intro'] == \"Lalitpanwargm@gmail.com\" ,'dod_enumerator_id_intro'] = \"lalitpanwargm@gmail.com\"\n",
    "result.loc[result['dod_enumerator_id_intro'] == \"manojmurmu.dod@gmail.co\" ,'dod_enumerator_id_intro'] = \"manojmurmu.dod@gmail.com\"\n",
    "result.loc[result['dod_enumerator_id_intro'] == \"mdas88644@giml.co\" ,'dod_enumerator_id_intro'] = \"mdas88644@gmail.com\"\n",
    "result.loc[result['dod_enumerator_id_intro'] == \"mantoshkumar.dod7654@gmil.come\" ,'dod_enumerator_id_intro'] = \"mantoshkumar.dod7654@gmil.com\"\n",
    "result.loc[result['dod_enumerator_id_intro'] == \"jitendrakmr.singh8294@gmail.com0\" ,'dod_enumerator_id_intro'] = \"jitendrakmr.singh8294@gmail.com\"\n",
    "result.loc[result['dod_enumerator_id_intro'] == \"ashokkumar.dod96@gmail.comA\" ,'dod_enumerator_id_intro'] = \"ashokkumar.dod96@gmail.com\"\n",
    "result.loc[result['dod_enumerator_id_intro'] == \"dilipkumar1993@gmail.come\" ,'dod_enumerator_id_intro'] = \"dilipkumar1993@gmail.com\"\n",
    "result.loc[result['dod_enumerator_id_intro'] == \"mantoshkumar.dod7654@gmil.com\" ,'dod_enumerator_id_intro'] = \"mantoshkumar.dod7654@gmail.com\"\n",
    "result.loc[result['dod_enumerator_id_intro'] == \"mdas88644@giml.com\" ,'dod_enumerator_id_intro'] = \"mdas88644@gmail.com\"\n",
    "result.loc[result['dod_enumerator_id_intro'] == \"djbhaskar@gmail.com\" ,'dod_enumerator_id_intro'] = \"djbhaskar92@gmail.com\"\n",
    "result.loc[result['dod_enumerator_id_intro'] == \"Dodhayat91221@gmail.com\" ,'dod_enumerator_id_intro'] = \"dodhayat91221@gmail.com\"\n",
    "result.loc[result['dod_enumerator_id_intro'] == \"pujaroy087@gmail.com\" ,'dod_enumerator_id_intro'] = \"pujapujaroy087@gmail.com\"\n",
    "result.loc[result['dod_enumerator_id_intro'] == \"Dodmunna1990@gmail.com\" ,'dod_enumerator_id_intro'] = \"dodmunna1990@gmail.com\"\n",
    "result.loc[result['dod_enumerator_id_intro'] == \"kdm6451@gmail.com\" ,'dod_enumerator_id_intro'] = \"kdm6451@gmail.com \"\n",
    "result.loc[result['dod_enumerator_id_intro'] == \"ankeshkumarmandaldod.@gmail.com\" ,'dod_enumerator_id_intro'] = \"ankeshnirala7151@gmail.com\"\n",
    "result.loc[result['dod_enumerator_id_intro'] == \"SabitaKumari.dod@gmail.com\" ,'dod_enumerator_id_intro'] = \"sabitaKumari.dod@gmail.com\"\n",
    "result.loc[result['dod_enumerator_id_intro'] == \"latumanib@gmail.com\" ,'dod_enumerator_id_intro'] = \"latumanibarman78@gmail.com\"\n",
    "result.loc[result['dod_enumerator_id_intro'] == \"tiroshrabha@gmail.com\" ,'dod_enumerator_id_intro'] = \"tiroshrabha73@gmail.com\"\n",
    "result.loc[result['dod_enumerator_id_intro'] == \"rahmanatikur470@gmail.com\" ,'dod_enumerator_id_intro'] = \"rahmanatikur470@gmail.com\"\n",
    "\n",
    "\n",
    "result = result.merge(enum_names,how='left', on = 'dod_enumerator_id_intro')\n",
    "\n",
    "\n",
    "#generating Productivity Tables\n",
    "result['complete'] = pd.to_numeric(result['complete'], errors='coerce')\n",
    "result['hh_size_hhinfo'] = pd.to_numeric(result['hh_size_hhinfo'], errors='coerce')\n",
    "result['incomplete'] = pd.to_numeric(result['incomplete'], errors='coerce')\n",
    "result['perm_unavail'] = pd.to_numeric(result['perm_unavail'], errors='coerce')\n",
    "result['refusal'] = pd.to_numeric(result['refusal'], errors='coerce')\n"
   ]
  },
  {
   "cell_type": "code",
   "execution_count": 8,
   "metadata": {
    "collapsed": true
   },
   "outputs": [],
   "source": [
    "table = result[['state_name', 'dist_name','enum_name']].groupby(['state_name', 'dist_name','enum_name']).count()\n",
    "table['Total Attempted'] = result[['scto_uuid', 'state_name', 'dist_name','enum_name']].groupby(['state_name', 'dist_name','enum_name']).count()\n",
    "table['Total Refusals'] = result[['refusal', 'state_name', 'dist_name','enum_name']].groupby(['state_name', 'dist_name','enum_name']).sum()\n",
    "table['Total Permanently Unavailable'] = result[['perm_unavail', 'state_name', 'dist_name','enum_name']].groupby(['state_name', 'dist_name','enum_name']).sum()\n",
    "table['Total Incomplete'] = result[['incomplete', 'state_name', 'dist_name','enum_name']].groupby(['state_name', 'dist_name','enum_name']).sum()\n",
    "table['Total Complete'] = result[['complete', 'state_name', 'dist_name','enum_name']].groupby(['state_name', 'dist_name','enum_name']).sum()\n",
    "\n",
    "table = table.reset_index()"
   ]
  },
  {
   "cell_type": "code",
   "execution_count": 9,
   "metadata": {
    "collapsed": true
   },
   "outputs": [],
   "source": [
    "yesterday = date.today() - timedelta(1)\n",
    "yesterday = yesterday.strftime('%Y-%m-%d')\n",
    "daily_result =  result.loc[result['date'].astype(str) == yesterday]\n",
    "\n",
    "table_today = daily_result[['state_name', 'dist_name','enum_name']].groupby(['state_name', 'dist_name','enum_name']).count()\n",
    "table_today['Attempted YESTERDAY'] = daily_result[['scto_uuid', 'state_name', 'dist_name','enum_name']].groupby(['state_name', 'dist_name','enum_name']).count()\n",
    "table_today['Incomplete YESTERDAY'] = daily_result[['incomplete', 'state_name', 'dist_name','enum_name']].groupby(['state_name', 'dist_name','enum_name']).sum()\n",
    "table_today['Complete YESTERDAY'] = daily_result[['complete', 'state_name', 'dist_name','enum_name']].groupby(['state_name', 'dist_name','enum_name']).sum()\n",
    "\n",
    "table_today = table_today.reset_index()\n",
    "table=table.merge(table_today,how='outer',on=['enum_name', 'state_name', 'dist_name'])\n",
    "table.fillna(0, inplace=True)\n",
    "table = table[['dist_name','enum_name', 'Total Attempted', 'Attempted YESTERDAY', 'Total Complete', 'Complete YESTERDAY', 'Total Incomplete', 'Incomplete YESTERDAY','Total Refusals','Total Permanently Unavailable']]"
   ]
  },
  {
   "cell_type": "code",
   "execution_count": 10,
   "metadata": {},
   "outputs": [
    {
     "data": {
      "application/vnd.jupyter.widget-view+json": {
       "model_id": "aaba0ac67c1344aca54d65b01be5d762",
       "version_major": 2,
       "version_minor": 0
      },
      "text/plain": [
       "interactive(children=(Select(description='District', options=('ARARIA', 'BAHRAICH', 'BAKSA', 'BALRAMPUR', 'BAR…"
      ]
     },
     "metadata": {},
     "output_type": "display_data"
    },
    {
     "data": {
      "text/plain": [
       "<function __main__.view>"
      ]
     },
     "execution_count": 10,
     "metadata": {},
     "output_type": "execute_result"
    }
   ],
   "source": [
    "#widget\n",
    "items = sorted(result['dist_name'].unique().tolist())\n",
    "\n",
    "def view(District=''):\n",
    "    display(table[table['dist_name']==District])\n",
    " \n",
    "w = widgets.Select(options=items)\n",
    "interact(view, District=w)\n"
   ]
  },
  {
   "cell_type": "code",
   "execution_count": null,
   "metadata": {
    "collapsed": true
   },
   "outputs": [],
   "source": []
  }
 ],
 "metadata": {
  "kernelspec": {
   "display_name": "Python 3",
   "language": "python",
   "name": "python3"
  },
  "language_info": {
   "codemirror_mode": {
    "name": "ipython",
    "version": 3
   },
   "file_extension": ".py",
   "mimetype": "text/x-python",
   "name": "python",
   "nbconvert_exporter": "python",
   "pygments_lexer": "ipython3",
   "version": "3.6.3"
  }
 },
 "nbformat": 4,
 "nbformat_minor": 2
}

{
 "cells": [
  {
   "cell_type": "code",
   "execution_count": 9,
   "metadata": {
    "collapsed": true
   },
   "outputs": [],
   "source": [
    "%matplotlib inline\n",
    "import pandas as pd\n",
    "import numpy as np\n",
    "from sqlalchemy import create_engine, MetaData\n",
    "from sqlalchemy import Integer, String, Float\n",
    "from sqlalchemy import Column,Integer,Sequence, String, Boolean\n",
    "from sqlalchemy.ext.declarative import declarative_base\n",
    "from sqlalchemy.orm import sessionmaker\n",
    "import psycopg2\n",
    "import numpy as np\n",
    "import matplotlib.pyplot as pp\n",
    "import pandas as pd\n",
    "import seaborn\n",
    "import scipy.stats as stats\n",
    "import pylab as pl\n",
    "import ipywidgets as widgets\n",
    "from ipywidgets import interactive\n",
    "import datetime\n",
    "from datetime import date, timedelta\n",
    "from IPython.display import HTML"
   ]
  },
  {
   "cell_type": "code",
   "execution_count": 10,
   "metadata": {},
   "outputs": [
    {
     "data": {
      "text/html": [
       "<script>\n",
       "  function code_toggle() {\n",
       "    if (code_shown){\n",
       "      $('div.input').hide('500');\n",
       "      $('#toggleButton').val('Show Code')\n",
       "    } else {\n",
       "      $('div.input').show('500');\n",
       "      $('#toggleButton').val('Hide Code')\n",
       "    }\n",
       "    code_shown = !code_shown\n",
       "  }\n",
       "\n",
       "  $( document ).ready(function(){\n",
       "    code_shown=false;\n",
       "    $('div.input').hide()\n",
       "  });\n",
       "</script>\n",
       "<form action=\"javascript:code_toggle()\"><input type=\"submit\" id=\"toggleButton\" value=\"Show Code\"></form>"
      ],
      "text/plain": [
       "<IPython.core.display.HTML object>"
      ]
     },
     "execution_count": 10,
     "metadata": {},
     "output_type": "execute_result"
    }
   ],
   "source": [
    "HTML('''<script>\n",
    "  function code_toggle() {\n",
    "    if (code_shown){\n",
    "      $('div.input').hide('500');\n",
    "      $('#toggleButton').val('Show Code')\n",
    "    } else {\n",
    "      $('div.input').show('500');\n",
    "      $('#toggleButton').val('Hide Code')\n",
    "    }\n",
    "    code_shown = !code_shown\n",
    "  }\n",
    "\n",
    "  $( document ).ready(function(){\n",
    "    code_shown=false;\n",
    "    $('div.input').hide()\n",
    "  });\n",
    "</script>\n",
    "<form action=\"javascript:code_toggle()\"><input type=\"submit\" id=\"toggleButton\" value=\"Show Code\"></form>''')"
   ]
  },
  {
   "cell_type": "code",
   "execution_count": 11,
   "metadata": {
    "collapsed": true
   },
   "outputs": [],
   "source": [
    "result = pd.read_csv('/Users/ryan/Desktop/baseline/notebook/baseline_data_for_viewer.csv', header=0, dtype= 'unicode', parse_dates=['date'])   \n",
    "enum_names = pd.read_csv('/Users/ryan/Downloads/enum_list_baseline_MAY17 (Autosaved).csv',header=0, dtype= 'unicode')\n",
    "\n",
    "result.loc[result['dod_enumerator_id_intro'] == \"amirulislamo4416@gmail.com\" ,'dod_enumerator_id_intro'] = \"amirulislam04416@gmail.com\"\n",
    "result.loc[result['dod_enumerator_id_intro'] == \"deepakkharte@gmail.com\" ,'dod_enumerator_id_intro'] = \"deepakkharte14@gmail.com\"\n",
    "result.loc[result['dod_enumerator_id_intro'] == \"jagdishpawar1983@rediffmail.com\" ,'dod_enumerator_id_intro'] = \"pawarjagdish1983@gmail.com\"\n",
    "result.loc[result['dod_enumerator_id_intro'] == \"jagdishpawar1983@rediffmail.com\" ,'dod_enumerator_id_intro'] = \"pawarjagdish1983@gmail.com\"\n",
    "result.loc[result['dod_enumerator_id_intro'] == \"kumarvikash5055@gmail.com\" ,'dod_enumerator_id_intro'] = \"vikashkrsah51@gmail.com\"\n",
    "result.loc[result['dod_enumerator_id_intro'] == \"kundan9570dod@gmail.com\" ,'dod_enumerator_id_intro'] = \"kundan957dod@gmail.com\"\n",
    "result.loc[result['dod_enumerator_id_intro'] == \"modaser@gmail.com\" ,'dod_enumerator_id_intro'] = \"modasder@gmail.com\"\n",
    "result.loc[result['dod_enumerator_id_intro'] == \"rahul.rawelcom@gmail.com\" ,'dod_enumerator_id_intro'] = \"rahulkumarjha.dod@gmail.com\"\n",
    "result.loc[result['dod_enumerator_id_intro'] == \"ramesh.chandra@rain-drop.org\" ,'dod_enumerator_id_intro'] = \"rameshchandra.ssa1980@gmail.com\"\n",
    "result.loc[result['dod_enumerator_id_intro'] == \"shahmanoj519@gmail\" ,'dod_enumerator_id_intro'] = \"shahmanoj519@gmail.com\"\n",
    "result.loc[result['dod_enumerator_id_intro'] == \"tharshit290@gmail.com\" ,'dod_enumerator_id_intro'] = \"tharshit190@gmail.com\"\n",
    "result.loc[result['dod_enumerator_id_intro'] == \"wasimansarihrp@gmail.com\" ,'dod_enumerator_id_intro'] = \"wasimansari.dod@gmail.com\"\n",
    "result.loc[result['dod_enumerator_id_intro'] == \"Lalitpanwargm@gmail.com\" ,'dod_enumerator_id_intro'] = \"lalitpanwargm@gmail.com\"\n",
    "result.loc[result['dod_enumerator_id_intro'] == \"manojmurmu.dod@gmail.co\" ,'dod_enumerator_id_intro'] = \"manojmurmu.dod@gmail.com\"\n",
    "result.loc[result['dod_enumerator_id_intro'] == \"mdas88644@giml.co\" ,'dod_enumerator_id_intro'] = \"mdas88644@gmail.com\"\n",
    "result.loc[result['dod_enumerator_id_intro'] == \"mantoshkumar.dod7654@gmil.come\" ,'dod_enumerator_id_intro'] = \"mantoshkumar.dod7654@gmil.com\"\n",
    "result.loc[result['dod_enumerator_id_intro'] == \"jitendrakmr.singh8294@gmail.com0\" ,'dod_enumerator_id_intro'] = \"jitendrakmr.singh8294@gmail.com\"\n",
    "result.loc[result['dod_enumerator_id_intro'] == \"ashokkumar.dod96@gmail.comA\" ,'dod_enumerator_id_intro'] = \"ashokkumar.dod96@gmail.com\"\n",
    "result.loc[result['dod_enumerator_id_intro'] == \"dilipkumar1993@gmail.come\" ,'dod_enumerator_id_intro'] = \"dilipkumar1993@gmail.com\"\n",
    "result.loc[result['dod_enumerator_id_intro'] == \"mantoshkumar.dod7654@gmil.com\" ,'dod_enumerator_id_intro'] = \"mantoshkumar.dod7654@gmail.com\"\n",
    "result.loc[result['dod_enumerator_id_intro'] == \"mdas88644@giml.com\" ,'dod_enumerator_id_intro'] = \"mdas88644@gmail.com\"\n",
    "result.loc[result['dod_enumerator_id_intro'] == \"djbhaskar@gmail.com\" ,'dod_enumerator_id_intro'] = \"djbhaskar92@gmail.com\"\n",
    "result.loc[result['dod_enumerator_id_intro'] == \"Dodhayat91221@gmail.com\" ,'dod_enumerator_id_intro'] = \"dodhayat91221@gmail.com\"\n",
    "result.loc[result['dod_enumerator_id_intro'] == \"pujaroy087@gmail.com\" ,'dod_enumerator_id_intro'] = \"pujapujaroy087@gmail.com\"\n",
    "result.loc[result['dod_enumerator_id_intro'] == \"Dodmunna1990@gmail.com\" ,'dod_enumerator_id_intro'] = \"dodmunna1990@gmail.com\"\n",
    "result.loc[result['dod_enumerator_id_intro'] == \"kdm6451@gmail.com\" ,'dod_enumerator_id_intro'] = \"kdm6451@gmail.com \"\n",
    "result.loc[result['dod_enumerator_id_intro'] == \"ankeshkumarmandaldod.@gmail.com\" ,'dod_enumerator_id_intro'] = \"ankeshnirala7151@gmail.com\"\n",
    "result.loc[result['dod_enumerator_id_intro'] == \"SabitaKumari.dod@gmail.com\" ,'dod_enumerator_id_intro'] = \"sabitaKumari.dod@gmail.com\"\n",
    "result.loc[result['dod_enumerator_id_intro'] == \"latumanib@gmail.com\" ,'dod_enumerator_id_intro'] = \"latumanibarman78@gmail.com\"\n",
    "result.loc[result['dod_enumerator_id_intro'] == \"tiroshrabha@gmail.com\" ,'dod_enumerator_id_intro'] = \"tiroshrabha73@gmail.com\"\n",
    "result.loc[result['dod_enumerator_id_intro'] == \"rahmanatikur470@gmail.com\" ,'dod_enumerator_id_intro'] = \"rahmanatikur470@gmail.com\"\n",
    "\n",
    "\n",
    "result = result.merge(enum_names,how='left', on = 'dod_enumerator_id_intro')\n",
    "\n",
    "\n",
    "#generating Productivity Tables\n",
    "result['complete'] = pd.to_numeric(result['complete'], errors='coerce')\n",
    "result['hh_size_hhinfo'] = pd.to_numeric(result['hh_size_hhinfo'], errors='coerce')\n",
    "result['incomplete'] = pd.to_numeric(result['incomplete'], errors='coerce')\n",
    "result['perm_unavail'] = pd.to_numeric(result['perm_unavail'], errors='coerce')\n",
    "result['refusal'] = pd.to_numeric(result['refusal'], errors='coerce')\n"
   ]
  },
  {
   "cell_type": "code",
   "execution_count": 12,
   "metadata": {
    "collapsed": true
   },
   "outputs": [],
   "source": [
    "table = result[['state_name', 'dist_name','enum_name']].groupby(['state_name', 'dist_name','enum_name']).count()\n",
    "table['Total Attempted'] = result[['scto_uuid', 'state_name', 'dist_name','enum_name']].groupby(['state_name', 'dist_name','enum_name']).count()\n",
    "table['Total Refusals'] = result[['refusal', 'state_name', 'dist_name','enum_name']].groupby(['state_name', 'dist_name','enum_name']).sum()\n",
    "table['Total Permanently Unavailable'] = result[['perm_unavail', 'state_name', 'dist_name','enum_name']].groupby(['state_name', 'dist_name','enum_name']).sum()\n",
    "table['Total Incomplete'] = result[['incomplete', 'state_name', 'dist_name','enum_name']].groupby(['state_name', 'dist_name','enum_name']).sum()\n",
    "table['Total Complete'] = result[['complete', 'state_name', 'dist_name','enum_name']].groupby(['state_name', 'dist_name','enum_name']).sum()\n",
    "\n",
    "table = table.reset_index()"
   ]
  },
  {
   "cell_type": "code",
   "execution_count": 13,
   "metadata": {
    "collapsed": true
   },
   "outputs": [],
   "source": [
    "yesterday = date.today() - timedelta(1)\n",
    "yesterday = yesterday.strftime('%Y-%m-%d')\n",
    "daily_result =  result.loc[result['date'].astype(str) == yesterday]\n",
    "\n",
    "table_today = daily_result[['state_name', 'dist_name','enum_name']].groupby(['state_name', 'dist_name','enum_name']).count()\n",
    "table_today['Attempted YESTERDAY'] = daily_result[['scto_uuid', 'state_name', 'dist_name','enum_name']].groupby(['state_name', 'dist_name','enum_name']).count()\n",
    "table_today['Incomplete YESTERDAY'] = daily_result[['incomplete', 'state_name', 'dist_name','enum_name']].groupby(['state_name', 'dist_name','enum_name']).sum()\n",
    "table_today['Complete YESTERDAY'] = daily_result[['complete', 'state_name', 'dist_name','enum_name']].groupby(['state_name', 'dist_name','enum_name']).sum()\n",
    "\n",
    "table_today = table_today.reset_index()\n",
    "table=table.merge(table_today,how='outer',on=['enum_name', 'state_name', 'dist_name'])\n",
    "table.fillna(0, inplace=True)\n",
    "table = table[['dist_name','enum_name', 'Total Attempted', 'Attempted YESTERDAY', 'Total Complete', 'Complete YESTERDAY', 'Total Incomplete', 'Incomplete YESTERDAY','Total Refusals','Total Permanently Unavailable']]"
   ]
  },
  {
   "cell_type": "code",
   "execution_count": 14,
   "metadata": {},
   "outputs": [
    {
     "data": {
      "application/vnd.jupyter.widget-view+json": {
       "model_id": "93bda9718a074611a044d1d407da12f1",
       "version_major": 2,
       "version_minor": 0
      },
      "text/plain": [
       "A Jupyter Widget"
      ]
     },
     "metadata": {},
     "output_type": "display_data"
    }
   ],
   "source": [
    "#widget\n",
    "items = sorted(result['dist_name'].unique().tolist())\n",
    "\n",
    "def view(District=''):\n",
    "    display(table[table['dist_name']==District])\n",
    " \n",
    "w = widgets.Select(options=items)\n",
    "interactive(view, District=w)\n"
   ]
  },
  {
   "cell_type": "code",
   "execution_count": null,
   "metadata": {
    "collapsed": true
   },
   "outputs": [],
   "source": []
  }
 ],
 "metadata": {
  "kernelspec": {
   "display_name": "Python 3",
   "language": "python",
   "name": "python3"
  },
  "language_info": {
   "codemirror_mode": {
    "name": "ipython",
    "version": 3
   },
   "file_extension": ".py",
   "mimetype": "text/x-python",
   "name": "python",
   "nbconvert_exporter": "python",
   "pygments_lexer": "ipython3",
   "version": "3.6.3"
  },
  "widgets": {
   "application/vnd.jupyter.widget-state+json": {
    "state": {
     "0d5cfc1e4dc943eda77e56e62333e142": {
      "model_module": "@jupyter-widgets/base",
      "model_module_version": "1.0.0",
      "model_name": "LayoutModel",
      "state": {}
     },
     "3afd6e6efe94440685dd0ef450659a37": {
      "model_module": "@jupyter-widgets/output",
      "model_module_version": "1.0.0",
      "model_name": "OutputModel",
      "state": {
       "layout": "IPY_MODEL_b9631f2706c9418cb9a5203bd7dd387d",
       "outputs": [
        {
         "data": {
          "text/html": "<div>\n<style scoped>\n    .dataframe tbody tr th:only-of-type {\n        vertical-align: middle;\n    }\n\n    .dataframe tbody tr th {\n        vertical-align: top;\n    }\n\n    .dataframe thead th {\n        text-align: right;\n    }\n</style>\n<table border=\"1\" class=\"dataframe\">\n  <thead>\n    <tr style=\"text-align: right;\">\n      <th></th>\n      <th>dist_name</th>\n      <th>enum_name</th>\n      <th>Total Attempted</th>\n      <th>Attempted YESTERDAY</th>\n      <th>Total Complete</th>\n      <th>Complete YESTERDAY</th>\n      <th>Total Incomplete</th>\n      <th>Incomplete YESTERDAY</th>\n      <th>Total Refusals</th>\n      <th>Total Permanently Unavailable</th>\n    </tr>\n  </thead>\n  <tbody>\n    <tr>\n      <th>94</th>\n      <td>ARARIA</td>\n      <td>AMAR KUMAR</td>\n      <td>18</td>\n      <td>3.0</td>\n      <td>6.0</td>\n      <td>1.0</td>\n      <td>12</td>\n      <td>2.0</td>\n      <td>0</td>\n      <td>0</td>\n    </tr>\n    <tr>\n      <th>95</th>\n      <td>ARARIA</td>\n      <td>ANKESH MANDAL</td>\n      <td>35</td>\n      <td>3.0</td>\n      <td>18.0</td>\n      <td>2.0</td>\n      <td>17</td>\n      <td>1.0</td>\n      <td>0</td>\n      <td>0</td>\n    </tr>\n    <tr>\n      <th>96</th>\n      <td>ARARIA</td>\n      <td>DILIP KUMAR</td>\n      <td>3</td>\n      <td>0.0</td>\n      <td>1.0</td>\n      <td>0.0</td>\n      <td>2</td>\n      <td>0.0</td>\n      <td>0</td>\n      <td>0</td>\n    </tr>\n    <tr>\n      <th>97</th>\n      <td>ARARIA</td>\n      <td>GOURAV UMAR</td>\n      <td>22</td>\n      <td>0.0</td>\n      <td>5.0</td>\n      <td>0.0</td>\n      <td>12</td>\n      <td>0.0</td>\n      <td>0</td>\n      <td>5</td>\n    </tr>\n    <tr>\n      <th>98</th>\n      <td>ARARIA</td>\n      <td>INDRAJIT SHUKLA</td>\n      <td>16</td>\n      <td>3.0</td>\n      <td>4.0</td>\n      <td>1.0</td>\n      <td>12</td>\n      <td>2.0</td>\n      <td>0</td>\n      <td>0</td>\n    </tr>\n    <tr>\n      <th>99</th>\n      <td>ARARIA</td>\n      <td>KARTIK MANDAL</td>\n      <td>21</td>\n      <td>3.0</td>\n      <td>2.0</td>\n      <td>0.0</td>\n      <td>16</td>\n      <td>3.0</td>\n      <td>1</td>\n      <td>2</td>\n    </tr>\n    <tr>\n      <th>100</th>\n      <td>ARARIA</td>\n      <td>KUMARI USHA</td>\n      <td>7</td>\n      <td>2.0</td>\n      <td>1.0</td>\n      <td>0.0</td>\n      <td>6</td>\n      <td>2.0</td>\n      <td>0</td>\n      <td>0</td>\n    </tr>\n    <tr>\n      <th>101</th>\n      <td>ARARIA</td>\n      <td>MANTOSH YADAV</td>\n      <td>19</td>\n      <td>2.0</td>\n      <td>3.0</td>\n      <td>0.0</td>\n      <td>16</td>\n      <td>2.0</td>\n      <td>0</td>\n      <td>0</td>\n    </tr>\n    <tr>\n      <th>102</th>\n      <td>ARARIA</td>\n      <td>MD RAHMAN</td>\n      <td>31</td>\n      <td>4.0</td>\n      <td>7.0</td>\n      <td>1.0</td>\n      <td>24</td>\n      <td>3.0</td>\n      <td>0</td>\n      <td>0</td>\n    </tr>\n    <tr>\n      <th>103</th>\n      <td>ARARIA</td>\n      <td>PRATAP KUMAR</td>\n      <td>15</td>\n      <td>3.0</td>\n      <td>12.0</td>\n      <td>2.0</td>\n      <td>3</td>\n      <td>1.0</td>\n      <td>0</td>\n      <td>0</td>\n    </tr>\n    <tr>\n      <th>104</th>\n      <td>ARARIA</td>\n      <td>PUJA ROY</td>\n      <td>14</td>\n      <td>3.0</td>\n      <td>3.0</td>\n      <td>2.0</td>\n      <td>11</td>\n      <td>1.0</td>\n      <td>0</td>\n      <td>0</td>\n    </tr>\n    <tr>\n      <th>105</th>\n      <td>ARARIA</td>\n      <td>RAHUL JHA</td>\n      <td>16</td>\n      <td>3.0</td>\n      <td>6.0</td>\n      <td>0.0</td>\n      <td>10</td>\n      <td>3.0</td>\n      <td>0</td>\n      <td>0</td>\n    </tr>\n    <tr>\n      <th>106</th>\n      <td>ARARIA</td>\n      <td>RAHUL YADAV</td>\n      <td>25</td>\n      <td>3.0</td>\n      <td>8.0</td>\n      <td>2.0</td>\n      <td>16</td>\n      <td>1.0</td>\n      <td>0</td>\n      <td>1</td>\n    </tr>\n    <tr>\n      <th>107</th>\n      <td>ARARIA</td>\n      <td>SANDEEP MAHTO</td>\n      <td>32</td>\n      <td>3.0</td>\n      <td>11.0</td>\n      <td>1.0</td>\n      <td>21</td>\n      <td>2.0</td>\n      <td>0</td>\n      <td>0</td>\n    </tr>\n    <tr>\n      <th>108</th>\n      <td>ARARIA</td>\n      <td>SONY KUMARI</td>\n      <td>19</td>\n      <td>4.0</td>\n      <td>5.0</td>\n      <td>1.0</td>\n      <td>14</td>\n      <td>3.0</td>\n      <td>0</td>\n      <td>0</td>\n    </tr>\n    <tr>\n      <th>109</th>\n      <td>ARARIA</td>\n      <td>SRIDEO MANDAL</td>\n      <td>23</td>\n      <td>4.0</td>\n      <td>12.0</td>\n      <td>2.0</td>\n      <td>11</td>\n      <td>2.0</td>\n      <td>0</td>\n      <td>0</td>\n    </tr>\n    <tr>\n      <th>110</th>\n      <td>ARARIA</td>\n      <td>VIKASH SAH</td>\n      <td>25</td>\n      <td>3.0</td>\n      <td>9.0</td>\n      <td>2.0</td>\n      <td>13</td>\n      <td>1.0</td>\n      <td>1</td>\n      <td>2</td>\n    </tr>\n    <tr>\n      <th>111</th>\n      <td>ARARIA</td>\n      <td>ZANARDAN RAZZAK</td>\n      <td>23</td>\n      <td>4.0</td>\n      <td>12.0</td>\n      <td>2.0</td>\n      <td>10</td>\n      <td>2.0</td>\n      <td>0</td>\n      <td>1</td>\n    </tr>\n  </tbody>\n</table>\n</div>",
          "text/plain": "    dist_name        enum_name  Total Attempted  Attempted YESTERDAY  \\\n94     ARARIA       AMAR KUMAR               18                  3.0   \n95     ARARIA    ANKESH MANDAL               35                  3.0   \n96     ARARIA      DILIP KUMAR                3                  0.0   \n97     ARARIA      GOURAV UMAR               22                  0.0   \n98     ARARIA  INDRAJIT SHUKLA               16                  3.0   \n99     ARARIA    KARTIK MANDAL               21                  3.0   \n100    ARARIA      KUMARI USHA                7                  2.0   \n101    ARARIA    MANTOSH YADAV               19                  2.0   \n102    ARARIA        MD RAHMAN               31                  4.0   \n103    ARARIA     PRATAP KUMAR               15                  3.0   \n104    ARARIA         PUJA ROY               14                  3.0   \n105    ARARIA        RAHUL JHA               16                  3.0   \n106    ARARIA      RAHUL YADAV               25                  3.0   \n107    ARARIA    SANDEEP MAHTO               32                  3.0   \n108    ARARIA      SONY KUMARI               19                  4.0   \n109    ARARIA    SRIDEO MANDAL               23                  4.0   \n110    ARARIA       VIKASH SAH               25                  3.0   \n111    ARARIA  ZANARDAN RAZZAK               23                  4.0   \n\n     Total Complete  Complete YESTERDAY  Total Incomplete  \\\n94              6.0                 1.0                12   \n95             18.0                 2.0                17   \n96              1.0                 0.0                 2   \n97              5.0                 0.0                12   \n98              4.0                 1.0                12   \n99              2.0                 0.0                16   \n100             1.0                 0.0                 6   \n101             3.0                 0.0                16   \n102             7.0                 1.0                24   \n103            12.0                 2.0                 3   \n104             3.0                 2.0                11   \n105             6.0                 0.0                10   \n106             8.0                 2.0                16   \n107            11.0                 1.0                21   \n108             5.0                 1.0                14   \n109            12.0                 2.0                11   \n110             9.0                 2.0                13   \n111            12.0                 2.0                10   \n\n     Incomplete YESTERDAY  Total Refusals  Total Permanently Unavailable  \n94                    2.0               0                              0  \n95                    1.0               0                              0  \n96                    0.0               0                              0  \n97                    0.0               0                              5  \n98                    2.0               0                              0  \n99                    3.0               1                              2  \n100                   2.0               0                              0  \n101                   2.0               0                              0  \n102                   3.0               0                              0  \n103                   1.0               0                              0  \n104                   1.0               0                              0  \n105                   3.0               0                              0  \n106                   1.0               0                              1  \n107                   2.0               0                              0  \n108                   3.0               0                              0  \n109                   2.0               0                              0  \n110                   1.0               1                              2  \n111                   2.0               0                              1  "
         },
         "metadata": {},
         "output_type": "display_data"
        }
       ]
      }
     },
     "8f9b220aea644d52b4ab44c1fae4156a": {
      "model_module": "@jupyter-widgets/output",
      "model_module_version": "1.0.0",
      "model_name": "OutputModel",
      "state": {
       "layout": "IPY_MODEL_9fd67b2112ba4b7a86ca1619690344c3",
       "outputs": [
        {
         "data": {
          "text/html": "<div>\n<style scoped>\n    .dataframe tbody tr th:only-of-type {\n        vertical-align: middle;\n    }\n\n    .dataframe tbody tr th {\n        vertical-align: top;\n    }\n\n    .dataframe thead th {\n        text-align: right;\n    }\n</style>\n<table border=\"1\" class=\"dataframe\">\n  <thead>\n    <tr style=\"text-align: right;\">\n      <th></th>\n      <th>dist_name</th>\n      <th>enum_name</th>\n      <th>Total Attempted</th>\n      <th>Attempted YESTERDAY</th>\n      <th>Total Complete</th>\n      <th>Complete YESTERDAY</th>\n      <th>Total Incomplete</th>\n      <th>Incomplete YESTERDAY</th>\n      <th>Total Refusals</th>\n      <th>Total Permanently Unavailable</th>\n    </tr>\n  </thead>\n  <tbody>\n    <tr>\n      <th>94</th>\n      <td>ARARIA</td>\n      <td>AMAR KUMAR</td>\n      <td>18</td>\n      <td>3.0</td>\n      <td>6.0</td>\n      <td>1.0</td>\n      <td>12</td>\n      <td>2.0</td>\n      <td>0</td>\n      <td>0</td>\n    </tr>\n    <tr>\n      <th>95</th>\n      <td>ARARIA</td>\n      <td>ANKESH MANDAL</td>\n      <td>35</td>\n      <td>3.0</td>\n      <td>18.0</td>\n      <td>2.0</td>\n      <td>17</td>\n      <td>1.0</td>\n      <td>0</td>\n      <td>0</td>\n    </tr>\n    <tr>\n      <th>96</th>\n      <td>ARARIA</td>\n      <td>DILIP KUMAR</td>\n      <td>3</td>\n      <td>0.0</td>\n      <td>1.0</td>\n      <td>0.0</td>\n      <td>2</td>\n      <td>0.0</td>\n      <td>0</td>\n      <td>0</td>\n    </tr>\n    <tr>\n      <th>97</th>\n      <td>ARARIA</td>\n      <td>GOURAV UMAR</td>\n      <td>22</td>\n      <td>0.0</td>\n      <td>5.0</td>\n      <td>0.0</td>\n      <td>12</td>\n      <td>0.0</td>\n      <td>0</td>\n      <td>5</td>\n    </tr>\n    <tr>\n      <th>98</th>\n      <td>ARARIA</td>\n      <td>INDRAJIT SHUKLA</td>\n      <td>16</td>\n      <td>3.0</td>\n      <td>4.0</td>\n      <td>1.0</td>\n      <td>12</td>\n      <td>2.0</td>\n      <td>0</td>\n      <td>0</td>\n    </tr>\n    <tr>\n      <th>99</th>\n      <td>ARARIA</td>\n      <td>KARTIK MANDAL</td>\n      <td>21</td>\n      <td>3.0</td>\n      <td>2.0</td>\n      <td>0.0</td>\n      <td>16</td>\n      <td>3.0</td>\n      <td>1</td>\n      <td>2</td>\n    </tr>\n    <tr>\n      <th>100</th>\n      <td>ARARIA</td>\n      <td>KUMARI USHA</td>\n      <td>7</td>\n      <td>2.0</td>\n      <td>1.0</td>\n      <td>0.0</td>\n      <td>6</td>\n      <td>2.0</td>\n      <td>0</td>\n      <td>0</td>\n    </tr>\n    <tr>\n      <th>101</th>\n      <td>ARARIA</td>\n      <td>MANTOSH YADAV</td>\n      <td>19</td>\n      <td>2.0</td>\n      <td>3.0</td>\n      <td>0.0</td>\n      <td>16</td>\n      <td>2.0</td>\n      <td>0</td>\n      <td>0</td>\n    </tr>\n    <tr>\n      <th>102</th>\n      <td>ARARIA</td>\n      <td>MD RAHMAN</td>\n      <td>31</td>\n      <td>4.0</td>\n      <td>7.0</td>\n      <td>1.0</td>\n      <td>24</td>\n      <td>3.0</td>\n      <td>0</td>\n      <td>0</td>\n    </tr>\n    <tr>\n      <th>103</th>\n      <td>ARARIA</td>\n      <td>PRATAP KUMAR</td>\n      <td>15</td>\n      <td>3.0</td>\n      <td>12.0</td>\n      <td>2.0</td>\n      <td>3</td>\n      <td>1.0</td>\n      <td>0</td>\n      <td>0</td>\n    </tr>\n    <tr>\n      <th>104</th>\n      <td>ARARIA</td>\n      <td>PUJA ROY</td>\n      <td>14</td>\n      <td>3.0</td>\n      <td>3.0</td>\n      <td>2.0</td>\n      <td>11</td>\n      <td>1.0</td>\n      <td>0</td>\n      <td>0</td>\n    </tr>\n    <tr>\n      <th>105</th>\n      <td>ARARIA</td>\n      <td>RAHUL JHA</td>\n      <td>16</td>\n      <td>3.0</td>\n      <td>6.0</td>\n      <td>0.0</td>\n      <td>10</td>\n      <td>3.0</td>\n      <td>0</td>\n      <td>0</td>\n    </tr>\n    <tr>\n      <th>106</th>\n      <td>ARARIA</td>\n      <td>RAHUL YADAV</td>\n      <td>25</td>\n      <td>3.0</td>\n      <td>8.0</td>\n      <td>2.0</td>\n      <td>16</td>\n      <td>1.0</td>\n      <td>0</td>\n      <td>1</td>\n    </tr>\n    <tr>\n      <th>107</th>\n      <td>ARARIA</td>\n      <td>SANDEEP MAHTO</td>\n      <td>32</td>\n      <td>3.0</td>\n      <td>11.0</td>\n      <td>1.0</td>\n      <td>21</td>\n      <td>2.0</td>\n      <td>0</td>\n      <td>0</td>\n    </tr>\n    <tr>\n      <th>108</th>\n      <td>ARARIA</td>\n      <td>SONY KUMARI</td>\n      <td>19</td>\n      <td>4.0</td>\n      <td>5.0</td>\n      <td>1.0</td>\n      <td>14</td>\n      <td>3.0</td>\n      <td>0</td>\n      <td>0</td>\n    </tr>\n    <tr>\n      <th>109</th>\n      <td>ARARIA</td>\n      <td>SRIDEO MANDAL</td>\n      <td>23</td>\n      <td>4.0</td>\n      <td>12.0</td>\n      <td>2.0</td>\n      <td>11</td>\n      <td>2.0</td>\n      <td>0</td>\n      <td>0</td>\n    </tr>\n    <tr>\n      <th>110</th>\n      <td>ARARIA</td>\n      <td>VIKASH SAH</td>\n      <td>25</td>\n      <td>3.0</td>\n      <td>9.0</td>\n      <td>2.0</td>\n      <td>13</td>\n      <td>1.0</td>\n      <td>1</td>\n      <td>2</td>\n    </tr>\n    <tr>\n      <th>111</th>\n      <td>ARARIA</td>\n      <td>ZANARDAN RAZZAK</td>\n      <td>23</td>\n      <td>4.0</td>\n      <td>12.0</td>\n      <td>2.0</td>\n      <td>10</td>\n      <td>2.0</td>\n      <td>0</td>\n      <td>1</td>\n    </tr>\n  </tbody>\n</table>\n</div>",
          "text/plain": "    dist_name        enum_name  Total Attempted  Attempted YESTERDAY  \\\n94     ARARIA       AMAR KUMAR               18                  3.0   \n95     ARARIA    ANKESH MANDAL               35                  3.0   \n96     ARARIA      DILIP KUMAR                3                  0.0   \n97     ARARIA      GOURAV UMAR               22                  0.0   \n98     ARARIA  INDRAJIT SHUKLA               16                  3.0   \n99     ARARIA    KARTIK MANDAL               21                  3.0   \n100    ARARIA      KUMARI USHA                7                  2.0   \n101    ARARIA    MANTOSH YADAV               19                  2.0   \n102    ARARIA        MD RAHMAN               31                  4.0   \n103    ARARIA     PRATAP KUMAR               15                  3.0   \n104    ARARIA         PUJA ROY               14                  3.0   \n105    ARARIA        RAHUL JHA               16                  3.0   \n106    ARARIA      RAHUL YADAV               25                  3.0   \n107    ARARIA    SANDEEP MAHTO               32                  3.0   \n108    ARARIA      SONY KUMARI               19                  4.0   \n109    ARARIA    SRIDEO MANDAL               23                  4.0   \n110    ARARIA       VIKASH SAH               25                  3.0   \n111    ARARIA  ZANARDAN RAZZAK               23                  4.0   \n\n     Total Complete  Complete YESTERDAY  Total Incomplete  \\\n94              6.0                 1.0                12   \n95             18.0                 2.0                17   \n96              1.0                 0.0                 2   \n97              5.0                 0.0                12   \n98              4.0                 1.0                12   \n99              2.0                 0.0                16   \n100             1.0                 0.0                 6   \n101             3.0                 0.0                16   \n102             7.0                 1.0                24   \n103            12.0                 2.0                 3   \n104             3.0                 2.0                11   \n105             6.0                 0.0                10   \n106             8.0                 2.0                16   \n107            11.0                 1.0                21   \n108             5.0                 1.0                14   \n109            12.0                 2.0                11   \n110             9.0                 2.0                13   \n111            12.0                 2.0                10   \n\n     Incomplete YESTERDAY  Total Refusals  Total Permanently Unavailable  \n94                    2.0               0                              0  \n95                    1.0               0                              0  \n96                    0.0               0                              0  \n97                    0.0               0                              5  \n98                    2.0               0                              0  \n99                    3.0               1                              2  \n100                   2.0               0                              0  \n101                   2.0               0                              0  \n102                   3.0               0                              0  \n103                   1.0               0                              0  \n104                   1.0               0                              0  \n105                   3.0               0                              0  \n106                   1.0               0                              1  \n107                   2.0               0                              0  \n108                   3.0               0                              0  \n109                   2.0               0                              0  \n110                   1.0               1                              2  \n111                   2.0               0                              1  "
         },
         "metadata": {},
         "output_type": "display_data"
        }
       ]
      }
     },
     "93bda9718a074611a044d1d407da12f1": {
      "model_module": "@jupyter-widgets/controls",
      "model_module_version": "1.0.0",
      "model_name": "VBoxModel",
      "state": {
       "_dom_classes": [
        "widget-interact"
       ],
       "children": [
        "IPY_MODEL_e3591965c0c743a0925eeb5f42a4d32e",
        "IPY_MODEL_3afd6e6efe94440685dd0ef450659a37"
       ],
       "layout": "IPY_MODEL_0d5cfc1e4dc943eda77e56e62333e142"
      }
     },
     "9d86223a013943e982d00a9e506966b3": {
      "model_module": "@jupyter-widgets/base",
      "model_module_version": "1.0.0",
      "model_name": "LayoutModel",
      "state": {}
     },
     "9de1e13352ba426fb55ded75d54e059e": {
      "model_module": "@jupyter-widgets/base",
      "model_module_version": "1.0.0",
      "model_name": "LayoutModel",
      "state": {}
     },
     "9fd67b2112ba4b7a86ca1619690344c3": {
      "model_module": "@jupyter-widgets/base",
      "model_module_version": "1.0.0",
      "model_name": "LayoutModel",
      "state": {}
     },
     "a9f4d78f9ebd4fc7979a8be5b0e79f07": {
      "model_module": "@jupyter-widgets/controls",
      "model_module_version": "1.0.0",
      "model_name": "DescriptionStyleModel",
      "state": {
       "description_width": ""
      }
     },
     "b396d98fd8c64067b597030e46c77ccf": {
      "model_module": "@jupyter-widgets/controls",
      "model_module_version": "1.0.0",
      "model_name": "DescriptionStyleModel",
      "state": {
       "description_width": ""
      }
     },
     "b9631f2706c9418cb9a5203bd7dd387d": {
      "model_module": "@jupyter-widgets/base",
      "model_module_version": "1.0.0",
      "model_name": "LayoutModel",
      "state": {}
     },
     "c793dbc804dc43dfb99be68475f7e653": {
      "model_module": "@jupyter-widgets/base",
      "model_module_version": "1.0.0",
      "model_name": "LayoutModel",
      "state": {}
     },
     "dcd79b81fc8c440a86364afcead4ee89": {
      "model_module": "@jupyter-widgets/controls",
      "model_module_version": "1.0.0",
      "model_name": "VBoxModel",
      "state": {
       "_dom_classes": [
        "widget-interact"
       ],
       "children": [
        "IPY_MODEL_dd116e08d83b4897b7c12dea04272ddc",
        "IPY_MODEL_8f9b220aea644d52b4ab44c1fae4156a"
       ],
       "layout": "IPY_MODEL_c793dbc804dc43dfb99be68475f7e653"
      }
     },
     "dd116e08d83b4897b7c12dea04272ddc": {
      "model_module": "@jupyter-widgets/controls",
      "model_module_version": "1.0.0",
      "model_name": "SelectModel",
      "state": {
       "_options_labels": [
        "ARARIA",
        "BAHRAICH",
        "BAKSA",
        "BALRAMPUR",
        "BARAN",
        "BARPETA",
        "BARWANI",
        "BEGUSARAI",
        "CHITRAKOOT",
        "DAMOH",
        "DARRANG",
        "DHUBRI",
        "GOALPARA",
        "JAISALMER",
        "KATIHAR",
        "KHANDWA",
        "NANDURBAR",
        "PAKUR",
        "SAHEBGANJ",
        "SHEIKHPURA",
        "SHRAWASTI",
        "SINGRAULI",
        "SITAMARHI",
        "SONBHADRA",
        "VIDISHA"
       ],
       "description": "District",
       "index": 0,
       "layout": "IPY_MODEL_9de1e13352ba426fb55ded75d54e059e",
       "style": "IPY_MODEL_a9f4d78f9ebd4fc7979a8be5b0e79f07"
      }
     },
     "e3591965c0c743a0925eeb5f42a4d32e": {
      "model_module": "@jupyter-widgets/controls",
      "model_module_version": "1.0.0",
      "model_name": "SelectModel",
      "state": {
       "_options_labels": [
        "ARARIA",
        "BAHRAICH",
        "BAKSA",
        "BALRAMPUR",
        "BARAN",
        "BARPETA",
        "BARWANI",
        "BEGUSARAI",
        "CHITRAKOOT",
        "DAMOH",
        "DARRANG",
        "DHUBRI",
        "GOALPARA",
        "JAISALMER",
        "KATIHAR",
        "KHANDWA",
        "NANDURBAR",
        "PAKUR",
        "SAHEBGANJ",
        "SHEIKHPURA",
        "SHRAWASTI",
        "SINGRAULI",
        "SITAMARHI",
        "SONBHADRA",
        "VIDISHA"
       ],
       "description": "District",
       "index": 0,
       "layout": "IPY_MODEL_9d86223a013943e982d00a9e506966b3",
       "style": "IPY_MODEL_b396d98fd8c64067b597030e46c77ccf"
      }
     }
    },
    "version_major": 2,
    "version_minor": 0
   }
  }
 },
 "nbformat": 4,
 "nbformat_minor": 2
}
